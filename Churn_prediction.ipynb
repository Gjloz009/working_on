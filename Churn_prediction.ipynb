{
 "cells": [
  {
   "cell_type": "markdown",
   "id": "fdca08e9-02cf-4124-aa0f-bbdff5c59d8d",
   "metadata": {},
   "source": [
    "### En este ejercicio analizaremos la métrica \"retention rate\". El retention rate es un indicador de que tan estable es tu product market fit (PMF), si tu PMF no es satisfactorio entonces se tendría que considerar otro tipo de métricas tales como el churn rate y predecir con churn prediction."
   ]
  },
  {
   "cell_type": "code",
   "execution_count": null,
   "id": "8a46f7bd-be18-42f0-8062-54474c5bf75f",
   "metadata": {},
   "outputs": [],
   "source": [
    "# Importamos las librerías a usar\n",
    "from datetime import datetime, timedelta,date\n",
    "import pandas as pd\n",
    "%matplotlib inline\n",
    "from sklearn.metrics import classification_report,confusion_matrix\n",
    "import matplotlib.pyplot as plt\n",
    "import numpy as np\n",
    "import seaborn as sns\n",
    "from __future__ import division\n",
    "from sklearn.cluster import KMeans\n",
    "\n",
    "import plotly as py\n",
    "import plotly.offline as pyoff\n",
    "import plotly.graph_objs as go\n",
    "\n",
    "import xgboost as xgb\n",
    "from sklearn.model_selection import KFold, cross_val_score, train_test_split\n",
    "\n",
    "pyoff.init_notebook_mode()"
   ]
  },
  {
   "cell_type": "code",
   "execution_count": null,
   "id": "46386851-fc76-43e8-bf02-d7bc9216c6a4",
   "metadata": {},
   "outputs": [],
   "source": [
    "# Vemos nuestros headers y nos damos una idea de nuestro archivo\n",
    "df_data= pd.read_csv('churn_data.csv')\n",
    "df_data.head(10)"
   ]
  },
  {
   "cell_type": "code",
   "execution_count": null,
   "id": "b0a2f0ad-4a74-46c5-a7f3-4c7d86843d24",
   "metadata": {},
   "outputs": [],
   "source": [
    "# vemos más información de nuestros datos\n",
    "df_data.info()"
   ]
  },
  {
   "cell_type": "markdown",
   "id": "a8a9ee7b-d7a0-4c6b-b51e-d79dca7dee2d",
   "metadata": {},
   "source": [
    "- Tenemos entonces variables categóricas y variables numéricas. \n",
    "- Por ser más las variables categóricas procederemos a explorarlas primero en su relación al campo \"Churn\"\n"
   ]
  },
  {
   "cell_type": "code",
   "execution_count": null,
   "id": "81456488-38a5-473b-bc76-075b4a4e513d",
   "metadata": {},
   "outputs": [],
   "source": [
    "#convertimos los datos del campo Churn a integers para su siguiente uso\n",
    "df_data.loc[df_data.Churn=='No','Churn']=0\n",
    "df_data.loc[df_data.Churn=='Yes','Churn']=1"
   ]
  },
  {
   "cell_type": "code",
   "execution_count": null,
   "id": "b9cb717d-1be5-4f3a-bc67-d06ea5ce189a",
   "metadata": {},
   "outputs": [],
   "source": [
    "# Ploteamos entonces el promedio churn por genero de sexo\n",
    "df_plot=df_data.groupby('gender').Churn.mean().reset_index()\n",
    "plot_data = [\n",
    "    go.Bar(\n",
    "    x=df_plot['gender'],\n",
    "    y=df_plot['Churn'],\n",
    "    width=[0.5,0.5],\n",
    "    marker=dict(\n",
    "    color=['green','blue'])\n",
    "    )\n",
    "]\n",
    "\n",
    "plot_layout=go.Layout(\n",
    "    xaxis={\"type\":\"category\"},\n",
    "    yaxis={\"title\":\"Churn Rate\"},\n",
    "    title='Gender',\n",
    "    plot_bgcolor='rgb(243,243,243)',\n",
    "    paper_bgcolor='rgb(243,243,243)',\n",
    "    )\n",
    "fig=go.Figure(data=plot_data,layout=plot_layout)\n",
    "pyoff.iplot(fig)"
   ]
  },
  {
   "cell_type": "markdown",
   "id": "0fa7bb99-d018-46b3-ae48-c439ce8b0668",
   "metadata": {},
   "source": [
    "- La gráfica no nos ayuda mucho a tomar conclusiones locales, es decir, globalmente podemos ver que el churn rate es similar en ambos géneros pero localmente es más grande en el género femenino por aproximadamente .008"
   ]
  },
  {
   "cell_type": "code",
   "execution_count": null,
   "id": "ae675037-2ce9-4e65-a62f-e09b089a15b6",
   "metadata": {},
   "outputs": [],
   "source": [
    "# Notamos que el promedio de Churn es similar aunque mayour en female por poco\n",
    "df_plot"
   ]
  },
  {
   "cell_type": "code",
   "execution_count": null,
   "id": "62a9cbc4-99f5-49f5-8122-0de28ca5ed3c",
   "metadata": {},
   "outputs": [],
   "source": [
    "# De igual mánera ploteamos churn con internet service \n",
    "df_plot=df_data.groupby('InternetService').Churn.mean().reset_index()\n",
    "plot_data = [\n",
    "    go.Bar(\n",
    "    x=df_plot['InternetService'],\n",
    "    y=df_plot['Churn'],\n",
    "    width=[0.5,0.5,0.5],\n",
    "    marker=dict(\n",
    "    color=['green','blue','yellow'])\n",
    "    )\n",
    "]\n",
    "\n",
    "plot_layout=go.Layout(\n",
    "    xaxis={\"type\":\"category\"},\n",
    "    yaxis={\"title\":\"Churn Rate\"},\n",
    "    title='Internet Service',\n",
    "    plot_bgcolor='rgb(243,243,243)',\n",
    "    paper_bgcolor='rgb(243,243,243)',\n",
    "    )\n",
    "fig=go.Figure(data=plot_data,layout=plot_layout)\n",
    "pyoff.iplot(fig)"
   ]
  },
  {
   "cell_type": "markdown",
   "id": "1f47306b-69ff-4b95-817c-d9ef7dd50113",
   "metadata": {},
   "source": [
    "- Es visible las diferencias entre cada categoría dentro de este campo, de manera numérica tenemos los datos abajo. "
   ]
  },
  {
   "cell_type": "code",
   "execution_count": null,
   "id": "79762143-a5d5-42e1-babc-daa5e9fbafd5",
   "metadata": {},
   "outputs": [],
   "source": [
    "df_plot"
   ]
  },
  {
   "cell_type": "code",
   "execution_count": null,
   "id": "ab969fc5-b192-42d7-b4a0-cea8a441734f",
   "metadata": {},
   "outputs": [],
   "source": [
    "# Hacemos lo mismo para este campo\n",
    "df_plot=df_data.groupby('Contract').Churn.mean().reset_index()\n",
    "plot_data = [\n",
    "    go.Bar(\n",
    "    x=df_plot['Contract'],\n",
    "    y=df_plot['Churn'],\n",
    "    width=[0.5,0.5,0.5],\n",
    "    marker=dict(\n",
    "    color=['green','blue','yellow'])\n",
    "    )\n",
    "]\n",
    "\n",
    "plot_layout=go.Layout(\n",
    "    xaxis={\"type\":\"category\"},\n",
    "    yaxis={\"title\":\"Churn Rate\"},\n",
    "    title='Contract',\n",
    "    plot_bgcolor='rgb(243,243,243)',\n",
    "    paper_bgcolor='rgb(243,243,243)',\n",
    "    )\n",
    "fig=go.Figure(data=plot_data,layout=plot_layout)\n",
    "pyoff.iplot(fig)"
   ]
  },
  {
   "cell_type": "code",
   "execution_count": null,
   "id": "a4740867-a24a-492a-8745-147cde937979",
   "metadata": {},
   "outputs": [],
   "source": [
    "df_plot"
   ]
  },
  {
   "cell_type": "markdown",
   "id": "9bbd4991-3d35-4e66-b425-6d69f162656d",
   "metadata": {},
   "source": [
    "- De igual manera el churn rate es notorio. "
   ]
  },
  {
   "cell_type": "markdown",
   "id": "1db95295-83f1-4769-8a47-f7abf81088ba",
   "metadata": {},
   "source": [
    "#### Procederemos hacer lo mismo con los campos que faltan. "
   ]
  },
  {
   "cell_type": "code",
   "execution_count": null,
   "id": "c745634b-90b4-40de-9c13-b3611403a614",
   "metadata": {},
   "outputs": [],
   "source": [
    "\n",
    "df_plot=df_data.groupby('TechSupport').Churn.mean().reset_index()\n",
    "plot_data = [\n",
    "    go.Bar(\n",
    "    x=df_plot['TechSupport'],\n",
    "    y=df_plot['Churn'],\n",
    "    width=[0.5,0.5,0.5],\n",
    "    marker=dict(\n",
    "    color=['green','blue','yellow'])\n",
    "    )\n",
    "]\n",
    "\n",
    "plot_layout=go.Layout(\n",
    "    xaxis={\"type\":\"category\"},\n",
    "    yaxis={\"title\":\"Churn Rate\"},\n",
    "    title='Tech Support',\n",
    "    plot_bgcolor='rgb(243,243,243)',\n",
    "    paper_bgcolor='rgb(243,243,243)',\n",
    "    )\n",
    "fig=go.Figure(data=plot_data,layout=plot_layout)\n",
    "pyoff.iplot(fig)"
   ]
  },
  {
   "cell_type": "code",
   "execution_count": null,
   "id": "9b0747b1-3c05-4b7f-9fce-93aebeeaef45",
   "metadata": {},
   "outputs": [],
   "source": [
    "df_plot"
   ]
  },
  {
   "cell_type": "code",
   "execution_count": null,
   "id": "5fab50ca-9e96-4461-b370-a61143a6d609",
   "metadata": {},
   "outputs": [],
   "source": [
    "df_plot=df_data.groupby('PaymentMethod').Churn.mean().reset_index()\n",
    "plot_data = [\n",
    "    go.Bar(\n",
    "    x=df_plot['PaymentMethod'],\n",
    "    y=df_plot['Churn'],\n",
    "    width=[0.5,0.5,0.5,0.5],\n",
    "    marker=dict(\n",
    "    color=['green','blue','yellow','red'])\n",
    "    )\n",
    "]\n",
    "\n",
    "plot_layout=go.Layout(\n",
    "    xaxis={\"type\":\"category\"},\n",
    "    yaxis={\"title\":\"Churn Rate\"},\n",
    "    title='Payment Method',\n",
    "    plot_bgcolor='rgb(243,243,243)',\n",
    "    paper_bgcolor='rgb(243,243,243)',\n",
    "    )\n",
    "fig=go.Figure(data=plot_data,layout=plot_layout)\n",
    "pyoff.iplot(fig)"
   ]
  },
  {
   "cell_type": "code",
   "execution_count": null,
   "id": "04577b16-510f-4f3a-b1fb-9670671bd491",
   "metadata": {},
   "outputs": [],
   "source": [
    "df_plot=df_data.groupby('PaperlessBilling').Churn.mean().reset_index()\n",
    "plot_data = [\n",
    "    go.Bar(\n",
    "    x=df_plot['PaperlessBilling'],\n",
    "    y=df_plot['Churn'],\n",
    "    width=[0.5,0.5],\n",
    "    marker=dict(\n",
    "    color=['green','blue'])\n",
    "    )\n",
    "]\n",
    "\n",
    "plot_layout=go.Layout(\n",
    "    xaxis={\"type\":\"category\"},\n",
    "    yaxis={\"title\":\"Churn Rate\"},\n",
    "    title='Paperless Billing',\n",
    "    plot_bgcolor='rgb(243,243,243)',\n",
    "    paper_bgcolor='rgb(243,243,243)',\n",
    "    )\n",
    "fig=go.Figure(data=plot_data,layout=plot_layout)\n",
    "pyoff.iplot(fig)"
   ]
  },
  {
   "cell_type": "code",
   "execution_count": null,
   "id": "64bc640e-88f7-43b0-95bf-3ff5124c7072",
   "metadata": {},
   "outputs": [],
   "source": [
    "df_plot"
   ]
  },
  {
   "cell_type": "code",
   "execution_count": null,
   "id": "1efafd13-3b3e-4ab9-91b4-6ce2c5633de6",
   "metadata": {},
   "outputs": [],
   "source": [
    "df_plot=df_data.groupby('StreamingMovies').Churn.mean().reset_index()\n",
    "plot_data = [\n",
    "    go.Bar(\n",
    "    x=df_plot['StreamingMovies'],\n",
    "    y=df_plot['Churn'],\n",
    "    width=[0.5,0.5,0.5],\n",
    "    marker=dict(\n",
    "    color=['green','blue','yellow'])\n",
    "    )\n",
    "]\n",
    "\n",
    "plot_layout=go.Layout(\n",
    "    xaxis={\"type\":\"category\"},\n",
    "    yaxis={\"title\":\"Churn Rate\"},\n",
    "    title='Streaming Movies',\n",
    "    plot_bgcolor='rgb(243,243,243)',\n",
    "    paper_bgcolor='rgb(243,243,243)',\n",
    "    )\n",
    "fig=go.Figure(data=plot_data,layout=plot_layout)\n",
    "pyoff.iplot(fig)"
   ]
  },
  {
   "cell_type": "code",
   "execution_count": null,
   "id": "398d0578-e965-406a-991b-7f8268682b0b",
   "metadata": {},
   "outputs": [],
   "source": [
    "df_plot=df_data.groupby('DeviceProtection').Churn.mean().reset_index()\n",
    "plot_data = [\n",
    "    go.Bar(\n",
    "    x=df_plot['DeviceProtection'],\n",
    "    y=df_plot['Churn'],\n",
    "    width=[0.5,0.5,0.5],\n",
    "    marker=dict(\n",
    "    color=['green','blue','yellow'])\n",
    "    )\n",
    "]\n",
    "\n",
    "plot_layout=go.Layout(\n",
    "    xaxis={\"type\":\"category\"},\n",
    "    yaxis={\"title\":\"Churn Rate\"},\n",
    "    title='DeviceProtection',\n",
    "    plot_bgcolor='rgb(243,243,243)',\n",
    "    paper_bgcolor='rgb(243,243,243)',\n",
    "    )\n",
    "fig=go.Figure(data=plot_data,layout=plot_layout)\n",
    "pyoff.iplot(fig)"
   ]
  },
  {
   "cell_type": "code",
   "execution_count": null,
   "id": "3f563e5c-3779-476e-b613-fa4252d3cc71",
   "metadata": {},
   "outputs": [],
   "source": [
    "df_plot=df_data.groupby('PhoneService').Churn.mean().reset_index()\n",
    "plot_data = [\n",
    "    go.Bar(\n",
    "    x=df_plot['PhoneService'],\n",
    "    y=df_plot['Churn'],\n",
    "    width=[0.5,0.5],\n",
    "    marker=dict(\n",
    "    color=['green','blue'])\n",
    "    )\n",
    "]\n",
    "\n",
    "plot_layout=go.Layout(\n",
    "    xaxis={\"type\":\"category\"},\n",
    "    yaxis={\"title\":\"Churn Rate\"},\n",
    "    title='PhoneService',\n",
    "    plot_bgcolor='rgb(243,243,243)',\n",
    "    paper_bgcolor='rgb(243,243,243)',\n",
    "    )\n",
    "fig=go.Figure(data=plot_data,layout=plot_layout)\n",
    "pyoff.iplot(fig)"
   ]
  },
  {
   "cell_type": "markdown",
   "id": "00c134bd-9c3d-4844-a042-01592195a325",
   "metadata": {},
   "source": [
    "#### Ahora analizaremos los campos númericos."
   ]
  },
  {
   "cell_type": "code",
   "execution_count": null,
   "id": "53fcc47f-e9ea-40c9-a864-2a8ee1bdb6b7",
   "metadata": {},
   "outputs": [],
   "source": [
    "df_plot=df_data.groupby('tenure').Churn.mean().reset_index()\n",
    "plot_data = [\n",
    "    go.Scatter(\n",
    "    x=df_plot['tenure'],\n",
    "    y=df_plot['Churn'],\n",
    "    mode='markers',\n",
    "    name='Low',\n",
    "    marker=dict(size=7,\n",
    "        line=dict(width=1),\n",
    "        color='blue',\n",
    "        opacity=0.8\n",
    "               ),\n",
    "    )\n",
    "]\n",
    "\n",
    "plot_layout=go.Layout(\n",
    "    xaxis={\"title\":\"Tenure\"},\n",
    "    yaxis={\"title\":\"Churn Rate\"},\n",
    "    title='Tenure based Churn rate',\n",
    "    plot_bgcolor='rgb(243,243,243)',\n",
    "    paper_bgcolor='rgb(243,243,243)',\n",
    "    )\n",
    "fig=go.Figure(data=plot_data,layout=plot_layout)\n",
    "pyoff.iplot(fig)"
   ]
  },
  {
   "cell_type": "code",
   "execution_count": null,
   "id": "627de66e-7fd4-412d-9ea6-4f0560ddc4b5",
   "metadata": {
    "tags": []
   },
   "outputs": [],
   "source": [
    "df_plot=df_data.groupby('MonthlyCharges').Churn.mean().reset_index()\n",
    "plot_data = [\n",
    "    go.Scatter(\n",
    "    x=df_plot['MonthlyCharges'],\n",
    "    y=df_plot['Churn'],\n",
    "    mode='markers',\n",
    "    name='Low',\n",
    "    marker=dict(size=7,\n",
    "        line=dict(width=1),\n",
    "        color='blue',\n",
    "        opacity=0.8\n",
    "               ),\n",
    "    )\n",
    "]\n",
    "\n",
    "plot_layout=go.Layout(\n",
    "    xaxis={\"title\":\"Monthly Charge\"},\n",
    "    yaxis={\"title\":\"Churn Rate\"},\n",
    "    title='Monthly Charges Vs. Churn rate',\n",
    "    plot_bgcolor='rgb(243,243,243)',\n",
    "    paper_bgcolor='rgb(243,243,243)',\n",
    "    )\n",
    "fig=go.Figure(data=plot_data,layout=plot_layout)\n",
    "pyoff.iplot(fig)"
   ]
  },
  {
   "cell_type": "code",
   "execution_count": null,
   "id": "da85e9c3-d586-4667-b9d3-413f0ad52847",
   "metadata": {
    "tags": []
   },
   "outputs": [],
   "source": [
    "df_plot=df_data.groupby('TotalCharges').Churn.mean().reset_index()\n",
    "plot_data = [\n",
    "    go.Scatter(\n",
    "    x=df_plot['TotalCharges'],\n",
    "    y=df_plot['Churn'],\n",
    "    mode='markers',\n",
    "    name='Low',\n",
    "    marker=dict(size=7,\n",
    "        line=dict(width=1),\n",
    "        color='blue',\n",
    "        opacity=0.8\n",
    "               ),\n",
    "    )\n",
    "]\n",
    "\n",
    "plot_layout=go.Layout(\n",
    "    xaxis={\"title\":\"Total Charge\"},\n",
    "    yaxis={\"title\":\"Churn Rate\"},\n",
    "    title='Total Charge Vs. Churn rate',\n",
    "    plot_bgcolor='rgb(243,243,243)',\n",
    "    paper_bgcolor='rgb(243,243,243)',\n",
    "    )\n",
    "fig=go.Figure(data=plot_data,layout=plot_layout)\n",
    "pyoff.iplot(fig)"
   ]
  },
  {
   "cell_type": "markdown",
   "id": "4c8ee6c8-ca42-49bd-8695-fe001793d295",
   "metadata": {},
   "source": [
    "### Algunos Insights:\n",
    "- No es posible identificar alguna relación entre estas variables."
   ]
  },
  {
   "cell_type": "markdown",
   "id": "c608f327-b229-452e-9985-4d9e793dc478",
   "metadata": {
    "tags": []
   },
   "source": [
    "#### Para intentar trabajar con las variables numéricas vamos a intentar categorizar, es decir, tenemos los campos numéricos de \"Tenure\", \"Monthly Charges\", \"Total Charges\" por tanto a cada uno de este campo vamos a categorizar nuestro dataframe. \n",
    "\n",
    "- Primero trabajaremos con el campo \"Tenure\" donde utilizaremos el método de Elbow para identificar el número de clusters, aplicar K-means.\n"
   ]
  },
  {
   "cell_type": "code",
   "execution_count": null,
   "id": "df9fb665-cb50-4543-8d99-0a2db325064a",
   "metadata": {},
   "outputs": [],
   "source": [
    "#Defiminos otra vez nuestra función para ordenar cluster\n",
    "def order_clusters(cluster_field_name,target_field_name,df,ascending):\n",
    "    new_cluster_field_name='new_' +cluster_field_name\n",
    "    \n",
    "    df_new=df.groupby(cluster_field_name)[target_field_name].mean().reset_index()\n",
    "    \n",
    "    df_new=df_new.sort_values(by=target_field_name,ascending=ascending).reset_index(drop=True)\n",
    "    \n",
    "    df_new['index']=df_new.index\n",
    "    \n",
    "    df_final=pd.merge(df,df_new[[cluster_field_name,'index']],on=cluster_field_name)\n",
    "    \n",
    "    df_final=df_final.drop([cluster_field_name],axis=1)\n",
    "    \n",
    "    df_final=df_final.rename(columns={\"index\":cluster_field_name})\n",
    "    return df_final"
   ]
  },
  {
   "cell_type": "code",
   "execution_count": null,
   "id": "2ba8560f-8514-41ce-9647-da95490d70c1",
   "metadata": {},
   "outputs": [],
   "source": [
    "from sklearn.cluster import KMeans\n",
    "#Implementamos el método de elbow. \n",
    "sse={}\n",
    "df_cluster=df_data[['tenure']]\n",
    "for k in range(1,10):\n",
    "    kmeans= KMeans(n_clusters=k,max_iter=1000).fit(df_cluster)\n",
    "    df_cluster[\"clusters\"]=kmeans.labels_\n",
    "    sse[k]=kmeans.inertia_\n",
    "\n",
    "plt.figure()\n",
    "plt.plot(list(sse.keys()),list(sse.values()))\n",
    "plt.xlabel('Numero de clusters')\n",
    "plt.show()"
   ]
  },
  {
   "cell_type": "markdown",
   "id": "92210afb-43ae-4b69-aabd-e47684afeb67",
   "metadata": {},
   "source": [
    "- El número de cluster que tomaremos será de 3 para este caso"
   ]
  },
  {
   "cell_type": "code",
   "execution_count": null,
   "id": "101a8847-939e-42cb-b0a0-60d9b4386fbe",
   "metadata": {},
   "outputs": [],
   "source": [
    "#Aplicamos K-means cómo en los ejercicios anteriores\n",
    "kmeans=KMeans(n_clusters=3)\n",
    "kmeans.fit(df_data[['tenure']])\n",
    "df_data['TenureCluster']=kmeans.predict(df_data[['tenure']])\n",
    "df_data = order_clusters('TenureCluster','tenure',df_data,True)"
   ]
  },
  {
   "cell_type": "code",
   "execution_count": null,
   "id": "26e49465-5e31-45c3-9fe6-71995f3fb806",
   "metadata": {},
   "outputs": [],
   "source": [
    "df_data.groupby('TenureCluster').tenure.describe()"
   ]
  },
  {
   "cell_type": "markdown",
   "id": "b2d7d4f2-0ddb-4437-a60b-5d385787b6a2",
   "metadata": {},
   "source": [
    "- Ahora Teniendo clasificados bajo este campo podemos entonces comparar de manera categórica esta variable con el churn , para esto nombraremos el orden de cluster como:\n",
    "    - 0->Low\n",
    "    - 1->Mid\n",
    "    - 2 ->High"
   ]
  },
  {
   "cell_type": "code",
   "execution_count": null,
   "id": "81ec41ca-5160-4d25-ac52-25bbf2ccad41",
   "metadata": {},
   "outputs": [],
   "source": [
    "df_data['TenureCluster'] = df_data['TenureCluster'].replace({0:'Low',1:'Mid',2:'High'})"
   ]
  },
  {
   "cell_type": "code",
   "execution_count": null,
   "id": "0a0789e6-9bab-4961-9876-e43c471aae4f",
   "metadata": {},
   "outputs": [],
   "source": [
    "df_plot = df_data.groupby('TenureCluster').Churn.mean().reset_index()\n",
    "plot_data = [\n",
    "    go.Bar(\n",
    "        x=df_plot['TenureCluster'],\n",
    "        y=df_plot['Churn'],\n",
    "        width = [0.5, 0.5, 0.5,0.5],\n",
    "        marker=dict(\n",
    "        color=['green', 'blue', 'orange','red'])\n",
    "    )\n",
    "]\n",
    "\n",
    "plot_layout = go.Layout(\n",
    "        xaxis={\"type\": \"category\",\"categoryarray\":['Low','Mid','High']},\n",
    "        title='Tenure Cluster vs Churn Rate',\n",
    "        plot_bgcolor  = \"rgb(243,243,243)\",\n",
    "        paper_bgcolor  = \"rgb(243,243,243)\",\n",
    "    )\n",
    "fig = go.Figure(data=plot_data, layout=plot_layout)\n",
    "pyoff.iplot(fig)"
   ]
  },
  {
   "cell_type": "markdown",
   "id": "f21378ca-0831-4b75-8e6c-43bb13c82bf9",
   "metadata": {},
   "source": [
    "- Haremos lo mismo con el campo \"Monthly Charges\""
   ]
  },
  {
   "cell_type": "code",
   "execution_count": null,
   "id": "0bea4691-2871-4024-b602-e3b96a885bc5",
   "metadata": {},
   "outputs": [],
   "source": [
    "sse={}\n",
    "df_cluster = df_data[['MonthlyCharges']]\n",
    "for k in range(1, 10):\n",
    "    kmeans = KMeans(n_clusters=k, max_iter=1000).fit(df_cluster)\n",
    "    df_cluster[\"clusters\"] = kmeans.labels_\n",
    "    sse[k] = kmeans.inertia_ \n",
    "plt.figure()\n",
    "plt.plot(list(sse.keys()), list(sse.values()))\n",
    "plt.xlabel(\"Number of cluster\")\n",
    "plt.show()"
   ]
  },
  {
   "cell_type": "code",
   "execution_count": null,
   "id": "963f675c-969f-4e7e-ab66-4a450e8ec65c",
   "metadata": {},
   "outputs": [],
   "source": [
    "#Escojemos 3 clusters\n",
    "kmeans = KMeans(n_clusters=3)\n",
    "kmeans.fit(df_data[['MonthlyCharges']])\n",
    "df_data['MonthlyChargeCluster'] = kmeans.predict(df_data[['MonthlyCharges']])\n",
    "df_data = order_clusters('MonthlyChargeCluster', 'MonthlyCharges',df_data,True)\n",
    "df_data.groupby('MonthlyChargeCluster').MonthlyCharges.describe()"
   ]
  },
  {
   "cell_type": "code",
   "execution_count": null,
   "id": "3ff6e7e8-9b54-4a4e-8a81-1575b549a9f1",
   "metadata": {},
   "outputs": [],
   "source": [
    "# Ploteamos contra Churn\n",
    "df_data['MonthlyChargeCluster'] = df_data[\"MonthlyChargeCluster\"].replace({0:'Low',1:'Mid',2:'High'})\n",
    "\n",
    "df_plot = df_data.groupby('MonthlyChargeCluster').Churn.mean().reset_index()\n",
    "plot_data = [\n",
    "    go.Bar(\n",
    "        x=df_plot['MonthlyChargeCluster'],\n",
    "        y=df_plot['Churn'],\n",
    "        width = [0.5, 0.5, 0.5],\n",
    "        marker=dict(\n",
    "        color=['green', 'blue', 'orange'])\n",
    "    )\n",
    "]\n",
    "\n",
    "plot_layout = go.Layout(\n",
    "        xaxis={\"type\": \"category\",\"categoryarray\":['Low','Mid','High']},\n",
    "        title='Monthly Charge Cluster vs Churn Rate',\n",
    "        plot_bgcolor  = \"rgb(243,243,243)\",\n",
    "        paper_bgcolor  = \"rgb(243,243,243)\",\n",
    "    )\n",
    "fig = go.Figure(data=plot_data, layout=plot_layout)\n",
    "pyoff.iplot(fig)"
   ]
  },
  {
   "cell_type": "code",
   "execution_count": null,
   "id": "c038bfef-fb8b-4945-82b4-996eff1b34d5",
   "metadata": {},
   "outputs": [],
   "source": [
    "# En este punto modificaremos un poco los datos aquí si encontramos errores los pasames a NAN\n",
    "df_data[pd.to_numeric(df_data['TotalCharges'], errors='coerce').isnull()]"
   ]
  },
  {
   "cell_type": "code",
   "execution_count": null,
   "id": "c9c03604-2d03-4b1c-bee3-9a0cc98f1fa0",
   "metadata": {},
   "outputs": [],
   "source": [
    "len(df_data[pd.to_numeric(df_data['TotalCharges'], errors='coerce').isnull()])"
   ]
  },
  {
   "cell_type": "code",
   "execution_count": null,
   "id": "b35c88fc-7f92-49fb-8707-a10bc470232d",
   "metadata": {},
   "outputs": [],
   "source": [
    "# ELiminamos los errores \n",
    "df_data.loc[pd.to_numeric(df_data['TotalCharges'], errors='coerce').isnull(),'TotalCharges'] = np.nan\n",
    "df_data = df_data.dropna()"
   ]
  },
  {
   "cell_type": "code",
   "execution_count": null,
   "id": "50be0c9b-a266-4bd9-b8e1-d6cccfe64e43",
   "metadata": {},
   "outputs": [],
   "source": [
    "df_data['TotalCharges'] = pd.to_numeric(df_data['TotalCharges'], errors='coerce')"
   ]
  },
  {
   "cell_type": "code",
   "execution_count": null,
   "id": "fe0c5eda-550b-4499-9b46-e2b37fc7e921",
   "metadata": {},
   "outputs": [],
   "source": [
    "sse={}\n",
    "df_cluster = df_data[['TotalCharges']]\n",
    "for k in range(1, 10):\n",
    "    kmeans = KMeans(n_clusters=k, max_iter=1000).fit(df_cluster)\n",
    "    df_cluster[\"clusters\"] = kmeans.labels_\n",
    "    sse[k] = kmeans.inertia_ \n",
    "plt.figure()\n",
    "plt.plot(list(sse.keys()), list(sse.values()))\n",
    "plt.xlabel(\"Number of cluster\")\n",
    "plt.show()"
   ]
  },
  {
   "cell_type": "code",
   "execution_count": null,
   "id": "660f2b2d-c781-4a21-ae4c-dc1958580bda",
   "metadata": {},
   "outputs": [],
   "source": [
    "#hacemos lo mismo para este apartado\n",
    "kmeans = KMeans(n_clusters=3)\n",
    "kmeans.fit(df_data[['TotalCharges']])\n",
    "df_data['TotalChargeCluster'] = kmeans.predict(df_data[['TotalCharges']])\n",
    "df_data = order_clusters('TotalChargeCluster', 'TotalCharges',df_data,True)\n",
    "df_data.groupby('TotalChargeCluster').TotalCharges.describe()"
   ]
  },
  {
   "cell_type": "code",
   "execution_count": null,
   "id": "ee53cac0-18fb-4237-9565-940ff90fc49c",
   "metadata": {},
   "outputs": [],
   "source": [
    "df_data['TotalChargeCluster'] = df_data[\"TotalChargeCluster\"].replace({0:'Low',1:'Mid',2:'High'})\n",
    "\n",
    "df_plot = df_data.groupby('TotalChargeCluster').Churn.mean().reset_index()\n",
    "plot_data = [\n",
    "    go.Bar(\n",
    "        x=df_plot['TotalChargeCluster'],\n",
    "        y=df_plot['Churn'],\n",
    "        width = [0.5, 0.5, 0.5],\n",
    "        marker=dict(\n",
    "        color=['green', 'blue', 'orange'])\n",
    "    )\n",
    "]\n",
    "\n",
    "plot_layout = go.Layout(\n",
    "        xaxis={\"type\": \"category\",\"categoryarray\":['Low','Mid','High']},\n",
    "        title='Total Charge Cluster vs Churn Rate',\n",
    "        plot_bgcolor  = \"rgb(243,243,243)\",\n",
    "        paper_bgcolor  = \"rgb(243,243,243)\",\n",
    "    )\n",
    "fig = go.Figure(data=plot_data, layout=plot_layout)\n",
    "pyoff.iplot(fig)"
   ]
  },
  {
   "cell_type": "code",
   "execution_count": null,
   "id": "0883a5a3-b3db-4edf-9b1d-368c1101f7d8",
   "metadata": {},
   "outputs": [],
   "source": [
    "df_data.info()"
   ]
  },
  {
   "cell_type": "markdown",
   "id": "06da38bf-e559-4ec7-bfaa-f53a22d7ba2b",
   "metadata": {},
   "source": [
    "#### Ahora lo que haremos es convertir nuestras variables categóricas a variables \"dummies\" para poder así crear un modelo de regresión logística."
   ]
  },
  {
   "cell_type": "code",
   "execution_count": null,
   "id": "0f4facb4-b7dc-448f-b861-f05c941d5f9a",
   "metadata": {},
   "outputs": [],
   "source": [
    "\n",
    "from sklearn.preprocessing import LabelEncoder\n",
    "le = LabelEncoder()\n",
    "dummy_columns = [] \n",
    "\n",
    "for column in df_data.columns:\n",
    "    if df_data[column].dtype == object and column != 'customerID':\n",
    "        if df_data[column].nunique() == 2:\n",
    "            df_data[column] = le.fit_transform(df_data[column]) \n",
    "        else:\n",
    "            dummy_columns.append(column)\n",
    "\n",
    "\n",
    "df_data = pd.get_dummies(data = df_data,columns = dummy_columns)"
   ]
  },
  {
   "cell_type": "code",
   "execution_count": null,
   "id": "2f3f5d21-d272-40f9-8e07-89aaff2139f5",
   "metadata": {},
   "outputs": [],
   "source": [
    "dummy_columns"
   ]
  },
  {
   "cell_type": "code",
   "execution_count": null,
   "id": "6d99eae8-c5be-4c2b-ade1-62cd3c88dd99",
   "metadata": {},
   "outputs": [],
   "source": [
    "#Corroboramos las variables dummies\n",
    "df_data[['gender','Partner','TenureCluster_High','TenureCluster_Low','TenureCluster_Mid']].head()\n"
   ]
  },
  {
   "cell_type": "code",
   "execution_count": null,
   "id": "bc1e83e7-3698-47a7-b7da-6c5e5c2ae94c",
   "metadata": {},
   "outputs": [],
   "source": [
    "#Modificamos las columnas de manera mas accesible\n",
    "all_columns = []\n",
    "for column in df_data.columns:\n",
    "    column = column.replace(\" \", \"_\").replace(\"(\", \"_\").replace(\")\", \"_\").replace(\"-\", \"_\")\n",
    "    all_columns.append(column)\n",
    "\n",
    "df_data.columns = all_columns"
   ]
  },
  {
   "cell_type": "code",
   "execution_count": null,
   "id": "62be1225-3cfe-4a1a-8c9d-3be48bb65f3d",
   "metadata": {},
   "outputs": [],
   "source": [
    "#Creamos las variables predictoras\n",
    "glm_columns = 'gender'\n",
    "\n",
    "for column in df_data.columns:\n",
    "    if column not in ['Churn','customerID','gender']:\n",
    "        glm_columns = glm_columns + ' + ' + column"
   ]
  },
  {
   "cell_type": "code",
   "execution_count": null,
   "id": "76c630dc-b3b1-40ae-a501-2bdf5037e3af",
   "metadata": {},
   "outputs": [],
   "source": [
    "#Implementamos el modelo\n",
    "import statsmodels.api as sm\n",
    "import statsmodels.formula.api as smf\n",
    " \n",
    "\n",
    "glm_model = smf.glm(formula='Churn ~ {}'.format(glm_columns), data=df_data, family=sm.families.Binomial())\n",
    "res = glm_model.fit()\n",
    "print(res.summary())"
   ]
  },
  {
   "cell_type": "markdown",
   "id": "3861a638-ba61-4930-8642-3f868fda098f",
   "metadata": {},
   "source": [
    "### Algunos Insights: \n",
    "- Podemos observar que tenemos muchas variables de las cuales usamos para predecir el modelo, ahora basándonos en el P-value muchas de ellas no son relevantes para el modelo. \n",
    "- no solo nos debemos de fijar en esto cuando decidimos si las variables son significativas o no. Pero para fines del ejercicio tomaremos todas las variables para el siguiente modelo."
   ]
  },
  {
   "cell_type": "code",
   "execution_count": null,
   "id": "0718d334-b5a0-4847-8c56-4d2e9ddb9985",
   "metadata": {},
   "outputs": [],
   "source": [
    "np.exp(res.params)"
   ]
  },
  {
   "cell_type": "code",
   "execution_count": null,
   "id": "e106a3ff-072c-4e57-b4d4-6d2661500155",
   "metadata": {},
   "outputs": [],
   "source": [
    "#creamos valores x y  Y\n",
    "X = df_data.drop(['Churn','customerID'],axis=1)\n",
    "y = df_data.Churn"
   ]
  },
  {
   "cell_type": "code",
   "execution_count": null,
   "id": "129b64a8-4005-4776-9ae0-09f2e998d879",
   "metadata": {},
   "outputs": [],
   "source": [
    "#Separamos en set de entrenamiento y aprendizaje\n",
    "X_train, X_test, y_train, y_test = train_test_split(X, y, test_size=0.05, random_state=56)"
   ]
  },
  {
   "cell_type": "code",
   "execution_count": null,
   "id": "7a6f76cb-0dc1-48ad-aef3-0258bea332ce",
   "metadata": {},
   "outputs": [],
   "source": [
    "#Construimos el modelo de clasificación para el Churn con las variables \n",
    "xgb_model = xgb.XGBClassifier(max_depth=5, learning_rate=0.08, objective= 'binary:logistic',n_jobs=-1).fit(X_train, y_train)\n",
    "\n",
    "print('Accuracy of XGB classifier on training set: {:.2f}'\n",
    "       .format(xgb_model.score(X_train, y_train)))\n",
    "print('Accuracy of XGB classifier on test set: {:.2f}'\n",
    "       .format(xgb_model.score(X_test[X_train.columns], y_test)))"
   ]
  },
  {
   "cell_type": "markdown",
   "id": "22920199-dc13-44dc-9526-6e426adc435f",
   "metadata": {},
   "source": [
    "- Tenemos resultados de Accuracy bastante altos , esto se deben a muchos factores pero no se puede asegurar todavía nada , necesitamos revisar más a fondo"
   ]
  },
  {
   "cell_type": "code",
   "execution_count": null,
   "id": "ef58e858-dc6f-4af3-be5c-da35d4dd09f1",
   "metadata": {},
   "outputs": [],
   "source": [
    "# creamos la variable de prediccion con nuestro modelo\n",
    "y_pred = xgb_model.predict(X_test)"
   ]
  },
  {
   "cell_type": "code",
   "execution_count": null,
   "id": "b45ddfc6-fce4-4bb6-9812-01d54d70269a",
   "metadata": {},
   "outputs": [],
   "source": [
    "# Comparamos los resultados \n",
    "print(classification_report(y_test, y_pred))"
   ]
  },
  {
   "cell_type": "markdown",
   "id": "c9fb0d72-95bb-4d67-853f-378ed3a95c57",
   "metadata": {},
   "source": [
    "- Tenemos una clasificación poco efectiva para uno de las entradas, es decir, para la entrada 1 tenemos una precisión de 0.62 que no es una clasificación confiable , tenemos que mejorar el modelo de predicción y existen alternativas para esto. "
   ]
  },
  {
   "cell_type": "code",
   "execution_count": null,
   "id": "37add78a-b060-470a-9275-1769d2c6c4e8",
   "metadata": {},
   "outputs": [],
   "source": [
    "from xgboost import plot_importance"
   ]
  },
  {
   "cell_type": "code",
   "execution_count": null,
   "id": "d1f721ca-a627-4d14-9f57-c8b0b15c1454",
   "metadata": {},
   "outputs": [],
   "source": [
    "# Veremos que varaibles son las más importantes para nuestro modelo \n",
    "fig, ax = plt.subplots(figsize=(10,8))\n",
    "plot_importance(xgb_model, ax=ax)"
   ]
  }
 ],
 "metadata": {
  "kernelspec": {
   "display_name": "Python 3 (ipykernel)",
   "language": "python",
   "name": "python3"
  },
  "language_info": {
   "codemirror_mode": {
    "name": "ipython",
    "version": 3
   },
   "file_extension": ".py",
   "mimetype": "text/x-python",
   "name": "python",
   "nbconvert_exporter": "python",
   "pygments_lexer": "ipython3",
   "version": "3.8.1"
  }
 },
 "nbformat": 4,
 "nbformat_minor": 5
}
